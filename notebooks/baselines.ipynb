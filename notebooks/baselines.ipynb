{
 "cells": [
  {
   "cell_type": "code",
   "execution_count": 1,
   "metadata": {},
   "outputs": [],
   "source": [
    "%load_ext autoreload\n",
    "%autoreload 2"
   ]
  },
  {
   "cell_type": "code",
   "execution_count": 2,
   "metadata": {},
   "outputs": [],
   "source": [
    "import torch\n",
    "import numpy as np\n",
    "import matplotlib.pyplot as plt\n",
    "import sys\n",
    "import pickle\n",
    "import pandas as pd\n",
    "import argparse\n",
    "import os\n",
    "\n",
    "sys.path.append(\"../source/\")\n",
    "from datasets import PlanetoidDataset, TadpoleDataset, SyntheticData, MyData \n",
    "from torch_geometric.data import Data\n",
    "from torch_geometric.transforms import KNNGraph\n",
    "from utils import utils\n",
    "\n",
    "from sklearn.ensemble import RandomForestClassifier, RandomForestRegressor\n",
    "from sklearn.linear_model import LogisticRegression, LinearRegression\n",
    "from sklearn.metrics import accuracy_score\n",
    "from sklearn import preprocessing\n",
    "\n",
    "from torch_geometric.datasets import Planetoid\n",
    "from torch_geometric.transforms import NormalizeFeatures\n",
    "from sklearn.experimental import enable_iterative_imputer\n",
    "from sklearn.impute import IterativeImputer\n",
    "from sklearn.preprocessing import MinMaxScaler, StandardScaler, LabelEncoder, Normalizer\n",
    "\n",
    "import sklearn\n",
    "from typing import Callable, Tuple, List, Union, Optional, Dict\n",
    "\n",
    "path_to_data = \"../data/\""
   ]
  },
  {
   "cell_type": "markdown",
   "metadata": {},
   "source": [
    "# TADPOLE Dataset"
   ]
  },
  {
   "cell_type": "code",
   "execution_count": 3,
   "metadata": {},
   "outputs": [],
   "source": [
    "path_tadpole_data = os.path.join(path_to_data, 'Tadpole/tadpole_data.pickle')"
   ]
  },
  {
   "cell_type": "code",
   "execution_count": 4,
   "metadata": {},
   "outputs": [],
   "source": [
    "with open(path_tadpole_data, 'rb') as f:\n",
    "    X_,y_,train_mask_,test_mask_, weight_ = pickle.load(f)"
   ]
  },
  {
   "cell_type": "code",
   "execution_count": 5,
   "metadata": {},
   "outputs": [
    {
     "name": "stdout",
     "output_type": "stream",
     "text": [
      "Test Accuracy: 0.94736842\n",
      "Test Accuracy: 0.94736842\n",
      "Test Accuracy: 0.94736842\n",
      "Test Accuracy: 0.94736842\n",
      "Test Accuracy: 0.94736842\n"
     ]
    }
   ],
   "source": [
    "tadpole_accs = []\n",
    "for seed in [42,456789,67341,1204,1302]:\n",
    "\n",
    "    X = torch.from_numpy(X_[:,:,0]).float()\n",
    "    y = torch.from_numpy(y_[:,:,0]).float()\n",
    "\n",
    "    train_mask = torch.from_numpy(np.concatenate((train_mask_[:,0][:-50], np.array([0]*50))))\n",
    "    test_mask = torch.from_numpy(test_mask_[:,0])\n",
    "    val_mask = torch.from_numpy(np.concatenate((np.array([0]*514), train_mask_[:,0][-50:])))\n",
    "\n",
    "    X_train, y_train = X[train_mask.bool()].cpu(), y[train_mask.bool()].cpu()\n",
    "    X_test, y_test = X[test_mask.bool()].cpu(), y[test_mask.bool()].cpu()\n",
    "    X_val, y_val = X[val_mask.bool()].cpu(), y[val_mask.bool()].cpu()\n",
    "\n",
    "    y_train = y_train.argmax(dim=1)\n",
    "    y_test = y_test.argmax(dim=1)\n",
    "    y_val = y_val.argmax(dim=1)\n",
    "\n",
    "    rf_model = RandomForestClassifier(n_estimators=200, max_depth=5, random_state=seed)\n",
    "    rf_model.fit(X_train, y_train)\n",
    "\n",
    "    y_test_pred = rf_model.predict(X_test)\n",
    "    accuracy = accuracy_score(y_test, y_test_pred)\n",
    "\n",
    "    print(f\"Test Accuracy: {accuracy:.8f}\")\n",
    "    tadpole_accs.append(accuracy)\n",
    "\n",
    "tadpole_accs = np.array(tadpole_accs)"
   ]
  },
  {
   "cell_type": "code",
   "execution_count": 6,
   "metadata": {},
   "outputs": [
    {
     "name": "stdout",
     "output_type": "stream",
     "text": [
      "Accuracy of baseline on TADPOLE dataset:  0.9473684210526315  +-  0.0\n"
     ]
    }
   ],
   "source": [
    "print(\"Accuracy of baseline on TADPOLE dataset: \", tadpole_accs.mean(), \" +- \", tadpole_accs.std())"
   ]
  },
  {
   "cell_type": "markdown",
   "metadata": {},
   "source": [
    "# ABIDE Dataset"
   ]
  },
  {
   "cell_type": "code",
   "execution_count": 7,
   "metadata": {},
   "outputs": [],
   "source": [
    "abide_path  = os.path.join(path_to_data, 'Abide/parisot_features.csv')\n",
    "abide_data = pd.read_csv(abide_path, sep=\"\\t\", header=None)"
   ]
  },
  {
   "cell_type": "code",
   "execution_count": 8,
   "metadata": {},
   "outputs": [],
   "source": [
    "def read_nodes(\n",
    "            node_dataset_path: str\n",
    "        ) -> Tuple[pd.DataFrame, np.ndarray]:\n",
    "    def read_fn(path: str) -> pd.DataFrame:\n",
    "        return pd.read_csv(path, header=None, sep='\\t')\n",
    "\n",
    "    def columns_fn(df: pd.DataFrame) -> Dict[str, Union[str, List[str]]]:\n",
    "        categorical_columns = None\n",
    "        continuous_columns = range(len(df.columns) - 1)\n",
    "        node_feature_columns = continuous_columns\n",
    "        label_column = len(df.columns) - 1\n",
    "\n",
    "        columns = {\n",
    "            'categorical': categorical_columns,\n",
    "            'continuous': continuous_columns,\n",
    "            'features': node_feature_columns,\n",
    "            'label': label_column\n",
    "        }\n",
    "        return columns\n",
    "\n",
    "    def processing_fn(\n",
    "                df: pd.DataFrame,\n",
    "                columns: Dict[str, Union[str, List[str]]]\n",
    "            ) -> pd.DataFrame:\n",
    "        # Scale the data\n",
    "        scaler = StandardScaler()\n",
    "        df[ list(columns['features']) ] = scaler.fit_transform( df[ list(columns['features']) ] )\n",
    "        return df\n",
    "\n",
    "    df = read_fn(node_dataset_path)\n",
    "    columns = columns_fn(df)\n",
    "    df = processing_fn(df, columns)\n",
    "\n",
    "    node_features_df = df[columns['features']]\n",
    "    labels = df[columns['label']].to_numpy(dtype=np.int8)\n",
    "    return node_features_df, labels"
   ]
  },
  {
   "cell_type": "code",
   "execution_count": 9,
   "metadata": {},
   "outputs": [],
   "source": [
    "x_abide, y_abide = read_nodes(abide_path)"
   ]
  },
  {
   "cell_type": "code",
   "execution_count": 10,
   "metadata": {},
   "outputs": [],
   "source": [
    "train_mask, test_mask, val_mask = utils.create_train_test_val_masks_levelled(y_abide, test_size=((1-0.7)/2), validation_size=((1-0.7)/2), random_state=42)"
   ]
  },
  {
   "cell_type": "code",
   "execution_count": 65,
   "metadata": {},
   "outputs": [
    {
     "name": "stdout",
     "output_type": "stream",
     "text": [
      "Test Accuracy: 0.68778281\n",
      "Test Accuracy: 0.69230769\n",
      "Test Accuracy: 0.71493213\n",
      "Test Accuracy: 0.71493213\n",
      "Test Accuracy: 0.71040724\n"
     ]
    }
   ],
   "source": [
    "accs_abide = []\n",
    "for seed in [1204,1302,456789,67341,42]:\n",
    "\n",
    "    abide_model = RandomForestClassifier(n_estimators=1000, max_depth=10, random_state=seed)\n",
    "    # abide_model = LogisticRegression(random_state=seed)\n",
    "    # abide_model = sklearn.linear_model.RidgeClassifier(alpha=50, random_state=seed)\n",
    "    abide_model.fit(x_abide[train_mask], y_abide[train_mask])\n",
    "\n",
    "    y_test_pred = abide_model.predict(x_abide[test_mask])\n",
    "\n",
    "    accuracy = accuracy_score(y_abide[test_mask], y_test_pred)\n",
    "    accs_abide.append(accuracy)\n",
    "\n",
    "    print(f\"Test Accuracy: {accuracy:.8f}\")\n",
    "\n",
    "accs_abide = np.array(accs_abide)"
   ]
  },
  {
   "cell_type": "code",
   "execution_count": 67,
   "metadata": {},
   "outputs": [
    {
     "name": "stdout",
     "output_type": "stream",
     "text": [
      "Accuracy of baseline on ABIDE dataset:  0.7040723981900453  +-  0.011659817852239945\n"
     ]
    }
   ],
   "source": [
    "print(\"Accuracy of baseline on ABIDE dataset: \", accs_abide.mean(), \" +- \", accs_abide.std())"
   ]
  },
  {
   "cell_type": "markdown",
   "metadata": {},
   "source": [
    "# CORA Dataset"
   ]
  },
  {
   "cell_type": "code",
   "execution_count": 26,
   "metadata": {},
   "outputs": [
    {
     "name": "stdout",
     "output_type": "stream",
     "text": [
      "\n",
      "Dataset: Cora():\n",
      "======================\n",
      "Number of graphs: 1\n",
      "Number of features: 1433\n",
      "Number of classes: 7\n",
      "\n",
      "Data(x=[2708, 1433], edge_index=[2, 10556], y=[2708], train_mask=[2708], val_mask=[2708], test_mask=[2708])\n",
      "===========================================================================================================\n",
      "Number of nodes: 2708\n",
      "Number of edges: 10556\n",
      "Average node degree: 3.90\n",
      "Has isolated nodes: False\n",
      "Has self-loops: False\n",
      "Is undirected: True\n"
     ]
    }
   ],
   "source": [
    "dataset = Planetoid(root=path_to_data, name='Cora', transform=NormalizeFeatures())\n",
    "\n",
    "print()\n",
    "print(f'Dataset: {dataset}:')\n",
    "print('======================')\n",
    "print(f'Number of graphs: {len(dataset)}')\n",
    "print(f'Number of features: {dataset.num_features}')\n",
    "print(f'Number of classes: {dataset.num_classes}')\n",
    "\n",
    "data = dataset[0]  \n",
    "\n",
    "print()\n",
    "print(data)\n",
    "print('===========================================================================================================')\n",
    "\n",
    "# Gather some statistics about the graph.\n",
    "print(f'Number of nodes: {data.num_nodes}')\n",
    "print(f'Number of edges: {data.num_edges}')\n",
    "print(f'Average node degree: {data.num_edges / data.num_nodes:.2f}')\n",
    "print(f'Has isolated nodes: {data.has_isolated_nodes()}')\n",
    "print(f'Has self-loops: {data.has_self_loops()}')\n",
    "print(f'Is undirected: {data.is_undirected()}')"
   ]
  },
  {
   "cell_type": "code",
   "execution_count": 20,
   "metadata": {},
   "outputs": [],
   "source": [
    "# using the commonly used set up for Cora, where 1708 nodes are used for training, 500 for validation, and 500 for testing\n",
    "dataset[0].train_mask.fill_(False)\n",
    "dataset[0].train_mask[:dataset[0].num_nodes - 1000] = 1\n",
    "dataset[0].val_mask.fill_(False)\n",
    "dataset[0].val_mask[dataset[0].num_nodes - 1000:dataset[0].num_nodes - 500] = 1\n",
    "dataset[0].test_mask.fill_(False)\n",
    "dataset[0].test_mask[dataset[0].num_nodes - 500:] = 1"
   ]
  },
  {
   "cell_type": "code",
   "execution_count": 21,
   "metadata": {},
   "outputs": [],
   "source": [
    "x_train_cora = data.x[data.train_mask]\n",
    "y_train_cora = data.y[data.train_mask]\n",
    "x_test_cora = data.x[data.test_mask]\n",
    "y_test_cora = data.y[data.test_mask]\n",
    "x_val_cora = data.x[data.val_mask]\n",
    "y_val_cora = data.y[data.val_mask]"
   ]
  },
  {
   "cell_type": "code",
   "execution_count": 39,
   "metadata": {},
   "outputs": [
    {
     "name": "stdout",
     "output_type": "stream",
     "text": [
      "Test Accuracy: 0.78600000\n",
      "Test Accuracy: 0.78600000\n",
      "Test Accuracy: 0.78600000\n",
      "Test Accuracy: 0.78600000\n",
      "Test Accuracy: 0.78600000\n"
     ]
    }
   ],
   "source": [
    "cora_accs = []\n",
    "\n",
    "for seed in [42,456789,67341,1204,1302]:\n",
    "    # rf_cora = RandomForestClassifier(n_estimators=800, max_depth=80, random_state=seed)\n",
    "    # rf_cora = LogisticRegression()\n",
    "    model_cora = sklearn.linear_model.RidgeClassifier(alpha=0.1, random_state=seed)\n",
    "    model_cora.fit(x_train_cora, y_train_cora)\n",
    "\n",
    "    y_test_pred_cora = model_cora.predict(x_test_cora)\n",
    "    accuracy = accuracy_score(y_test_cora, y_test_pred_cora)\n",
    "    cora_accs.append(accuracy)\n",
    "    print(f\"Test Accuracy: {accuracy:.8f}\")\n",
    "\n",
    "cora_accs = np.array(cora_accs)"
   ]
  },
  {
   "cell_type": "code",
   "execution_count": 40,
   "metadata": {},
   "outputs": [
    {
     "name": "stdout",
     "output_type": "stream",
     "text": [
      "Accuracy of baseline on CORA dataset:  0.786  +-  0.0\n"
     ]
    }
   ],
   "source": [
    "print(\"Accuracy of baseline on CORA dataset: \", cora_accs.mean(), \" +- \", cora_accs.std())"
   ]
  },
  {
   "cell_type": "markdown",
   "metadata": {},
   "source": [
    "# CiteSeer Dataset"
   ]
  },
  {
   "cell_type": "code",
   "execution_count": 27,
   "metadata": {},
   "outputs": [
    {
     "name": "stderr",
     "output_type": "stream",
     "text": [
      "Downloading https://github.com/kimiyoung/planetoid/raw/master/data/ind.citeseer.x\n",
      "Downloading https://github.com/kimiyoung/planetoid/raw/master/data/ind.citeseer.tx\n",
      "Downloading https://github.com/kimiyoung/planetoid/raw/master/data/ind.citeseer.allx\n",
      "Downloading https://github.com/kimiyoung/planetoid/raw/master/data/ind.citeseer.y\n",
      "Downloading https://github.com/kimiyoung/planetoid/raw/master/data/ind.citeseer.ty\n",
      "Downloading https://github.com/kimiyoung/planetoid/raw/master/data/ind.citeseer.ally\n",
      "Downloading https://github.com/kimiyoung/planetoid/raw/master/data/ind.citeseer.graph\n",
      "Downloading https://github.com/kimiyoung/planetoid/raw/master/data/ind.citeseer.test.index\n",
      "Processing...\n"
     ]
    },
    {
     "name": "stdout",
     "output_type": "stream",
     "text": [
      "\n",
      "Dataset: CiteSeer():\n",
      "======================\n",
      "Number of graphs: 1\n",
      "Number of features: 3703\n",
      "Number of classes: 6\n",
      "\n",
      "Data(x=[3327, 3703], edge_index=[2, 9104], y=[3327], train_mask=[3327], val_mask=[3327], test_mask=[3327])\n",
      "===========================================================================================================\n",
      "Number of nodes: 3327\n",
      "Number of edges: 9104\n",
      "Average node degree: 2.74\n",
      "Has isolated nodes: True\n",
      "Has self-loops: False\n",
      "Is undirected: True\n"
     ]
    },
    {
     "name": "stderr",
     "output_type": "stream",
     "text": [
      "Done!\n"
     ]
    }
   ],
   "source": [
    "dataset = Planetoid(root=path_to_data, name='CiteSeer', transform=NormalizeFeatures())\n",
    "\n",
    "print()\n",
    "print(f'Dataset: {dataset}:')\n",
    "print('======================')\n",
    "print(f'Number of graphs: {len(dataset)}')\n",
    "print(f'Number of features: {dataset.num_features}')\n",
    "print(f'Number of classes: {dataset.num_classes}')\n",
    "\n",
    "data = dataset[0]  \n",
    "\n",
    "print()\n",
    "print(data)\n",
    "print('===========================================================================================================')\n",
    "\n",
    "# Gather some statistics about the graph.\n",
    "print(f'Number of nodes: {data.num_nodes}')\n",
    "print(f'Number of edges: {data.num_edges}')\n",
    "print(f'Average node degree: {data.num_edges / data.num_nodes:.2f}')\n",
    "print(f'Has isolated nodes: {data.has_isolated_nodes()}')\n",
    "print(f'Has self-loops: {data.has_self_loops()}')\n",
    "print(f'Is undirected: {data.is_undirected()}')"
   ]
  },
  {
   "cell_type": "code",
   "execution_count": 35,
   "metadata": {},
   "outputs": [],
   "source": [
    "# using the commonly used set up for CiteSeer, where 2327 nodes are used for training, 500 for validation, and 500 for testing\n",
    "\n",
    "dataset[0].train_mask.fill_(False)\n",
    "dataset[0].train_mask[:dataset[0].num_nodes - 1000] = 1\n",
    "dataset[0].val_mask.fill_(False)\n",
    "dataset[0].val_mask[dataset[0].num_nodes - 1000:dataset[0].num_nodes - 500] = 1\n",
    "dataset[0].test_mask.fill_(False)\n",
    "dataset[0].test_mask[dataset[0].num_nodes - 500:] = 1"
   ]
  },
  {
   "cell_type": "code",
   "execution_count": 37,
   "metadata": {},
   "outputs": [],
   "source": [
    "x_train_citeseer = data.x[data.train_mask]\n",
    "y_train_citeseer = data.y[data.train_mask]\n",
    "x_test_citeseer = data.x[data.test_mask]\n",
    "y_test_citeseer = data.y[data.test_mask]\n",
    "x_val_citeseer = data.x[data.val_mask]\n",
    "y_val_citeseer = data.y[data.val_mask]"
   ]
  },
  {
   "cell_type": "code",
   "execution_count": 38,
   "metadata": {},
   "outputs": [
    {
     "name": "stdout",
     "output_type": "stream",
     "text": [
      "Test Accuracy: 0.77200000\n",
      "Test Accuracy: 0.77200000\n",
      "Test Accuracy: 0.77200000\n",
      "Test Accuracy: 0.77200000\n",
      "Test Accuracy: 0.77200000\n"
     ]
    }
   ],
   "source": [
    "citeseer_accs = []\n",
    "\n",
    "for seed in [42,456789,67341,1204,1302]:\n",
    "    # rf_cora = RandomForestClassifier(n_estimators=800, max_depth=80, random_state=seed)\n",
    "    # rf_cora = LogisticRegression()\n",
    "    model_citeseer = sklearn.linear_model.RidgeClassifier(alpha=0.1, random_state=seed)\n",
    "    model_citesser.fit(x_train_citeseer, y_train_citeseer)\n",
    "\n",
    "    y_test_pred_citeseer = model_citeseer.predict(x_test_citeseer)\n",
    "    accuracy = accuracy_score(y_test_citeseer, y_test_pred_citeseer)\n",
    "    citeseer_accs.append(accuracy)\n",
    "    print(f\"Test Accuracy: {accuracy:.8f}\")\n",
    "\n",
    "citeseer_accs = np.array(citeseer_accs)"
   ]
  },
  {
   "cell_type": "code",
   "execution_count": 41,
   "metadata": {},
   "outputs": [
    {
     "name": "stdout",
     "output_type": "stream",
     "text": [
      "Accuracy of baseline on CiteSeer dataset:  0.772  +-  0.0\n"
     ]
    }
   ],
   "source": [
    "print(\"Accuracy of baseline on CiteSeer dataset: \", citeseer_accs.mean(), \" +- \", citeseer_accs.std())"
   ]
  },
  {
   "cell_type": "markdown",
   "metadata": {},
   "source": [
    "# PubMed Dataset"
   ]
  },
  {
   "cell_type": "code",
   "execution_count": 42,
   "metadata": {},
   "outputs": [
    {
     "name": "stderr",
     "output_type": "stream",
     "text": [
      "Downloading https://github.com/kimiyoung/planetoid/raw/master/data/ind.pubmed.x\n",
      "Downloading https://github.com/kimiyoung/planetoid/raw/master/data/ind.pubmed.tx\n",
      "Downloading https://github.com/kimiyoung/planetoid/raw/master/data/ind.pubmed.allx\n",
      "Downloading https://github.com/kimiyoung/planetoid/raw/master/data/ind.pubmed.y\n",
      "Downloading https://github.com/kimiyoung/planetoid/raw/master/data/ind.pubmed.ty\n",
      "Downloading https://github.com/kimiyoung/planetoid/raw/master/data/ind.pubmed.ally\n",
      "Downloading https://github.com/kimiyoung/planetoid/raw/master/data/ind.pubmed.graph\n",
      "Downloading https://github.com/kimiyoung/planetoid/raw/master/data/ind.pubmed.test.index\n",
      "Processing...\n"
     ]
    },
    {
     "name": "stdout",
     "output_type": "stream",
     "text": [
      "\n",
      "Dataset: PubMed():\n",
      "======================\n",
      "Number of graphs: 1\n",
      "Number of features: 500\n",
      "Number of classes: 3\n",
      "\n",
      "Data(x=[19717, 500], edge_index=[2, 88648], y=[19717], train_mask=[19717], val_mask=[19717], test_mask=[19717])\n",
      "===========================================================================================================\n",
      "Number of nodes: 19717\n",
      "Number of edges: 88648\n",
      "Average node degree: 4.50\n",
      "Has isolated nodes: False\n",
      "Has self-loops: False\n",
      "Is undirected: True\n"
     ]
    },
    {
     "name": "stderr",
     "output_type": "stream",
     "text": [
      "Done!\n"
     ]
    }
   ],
   "source": [
    "dataset = Planetoid(root=path_to_data, name='PubMed', transform=NormalizeFeatures())\n",
    "\n",
    "print()\n",
    "print(f'Dataset: {dataset}:')\n",
    "print('======================')\n",
    "print(f'Number of graphs: {len(dataset)}')\n",
    "print(f'Number of features: {dataset.num_features}')\n",
    "print(f'Number of classes: {dataset.num_classes}')\n",
    "\n",
    "data = dataset[0]  \n",
    "\n",
    "print()\n",
    "print(data)\n",
    "print('===========================================================================================================')\n",
    "\n",
    "# Gather some statistics about the graph.\n",
    "print(f'Number of nodes: {data.num_nodes}')\n",
    "print(f'Number of edges: {data.num_edges}')\n",
    "print(f'Average node degree: {data.num_edges / data.num_nodes:.2f}')\n",
    "print(f'Has isolated nodes: {data.has_isolated_nodes()}')\n",
    "print(f'Has self-loops: {data.has_self_loops()}')\n",
    "print(f'Is undirected: {data.is_undirected()}')"
   ]
  },
  {
   "cell_type": "code",
   "execution_count": 45,
   "metadata": {},
   "outputs": [],
   "source": [
    "# using the commonly used set up for PubMed, where 18717 nodes are used for training, 500 for validation, and 500 for testing\n",
    "\n",
    "dataset[0].train_mask.fill_(False)\n",
    "dataset[0].train_mask[:dataset[0].num_nodes - 1000] = 1\n",
    "dataset[0].val_mask.fill_(False)\n",
    "dataset[0].val_mask[dataset[0].num_nodes - 1000:dataset[0].num_nodes - 500] = 1\n",
    "dataset[0].test_mask.fill_(False)\n",
    "dataset[0].test_mask[dataset[0].num_nodes - 500:] = 1"
   ]
  },
  {
   "cell_type": "code",
   "execution_count": 48,
   "metadata": {},
   "outputs": [],
   "source": [
    "x_train_pubmed = data.x[data.train_mask]\n",
    "y_train_pubmed = data.y[data.train_mask]\n",
    "x_test_pubmed = data.x[data.test_mask]\n",
    "y_test_pubmed = data.y[data.test_mask]\n",
    "x_val_pubmed = data.x[data.val_mask]\n",
    "y_val_pubmed = data.y[data.val_mask]"
   ]
  },
  {
   "cell_type": "code",
   "execution_count": 50,
   "metadata": {},
   "outputs": [
    {
     "name": "stdout",
     "output_type": "stream",
     "text": [
      "Test Accuracy: 0.88400000\n",
      "Test Accuracy: 0.88400000\n",
      "Test Accuracy: 0.88400000\n",
      "Test Accuracy: 0.88400000\n",
      "Test Accuracy: 0.88400000\n"
     ]
    }
   ],
   "source": [
    "pubmed_accs = []\n",
    "\n",
    "for seed in [42,456789,67341,1204,1302]:\n",
    "    # rf_cora = RandomForestClassifier(n_estimators=800, max_depth=80, random_state=seed)\n",
    "    # rf_cora = LogisticRegression()\n",
    "    model_pubmed = sklearn.linear_model.RidgeClassifier(alpha=0.1, random_state=seed)\n",
    "    model_pubmed.fit(x_train_pubmed, y_train_pubmed)\n",
    "\n",
    "    y_test_pred_pubmed = model_pubmed.predict(x_test_pubmed)\n",
    "    accuracy = accuracy_score(y_test_pubmed, y_test_pred_pubmed)\n",
    "    pubmed_accs.append(accuracy)\n",
    "    print(f\"Test Accuracy: {accuracy:.8f}\")\n",
    "\n",
    "pubmed_accs = np.array(pubmed_accs)"
   ]
  },
  {
   "cell_type": "code",
   "execution_count": 51,
   "metadata": {},
   "outputs": [
    {
     "name": "stdout",
     "output_type": "stream",
     "text": [
      "Accuracy of baseline on PubMed dataset:  0.884  +-  0.0\n"
     ]
    }
   ],
   "source": [
    "print(\"Accuracy of baseline on PubMed dataset: \", pubmed_accs.mean(), \" +- \", pubmed_accs.std())"
   ]
  },
  {
   "cell_type": "code",
   "execution_count": null,
   "metadata": {},
   "outputs": [],
   "source": []
  }
 ],
 "metadata": {
  "kernelspec": {
   "display_name": "base",
   "language": "python",
   "name": "python3"
  },
  "language_info": {
   "codemirror_mode": {
    "name": "ipython",
    "version": 3
   },
   "file_extension": ".py",
   "mimetype": "text/x-python",
   "name": "python",
   "nbconvert_exporter": "python",
   "pygments_lexer": "ipython3",
   "version": "3.9.13"
  },
  "orig_nbformat": 4
 },
 "nbformat": 4,
 "nbformat_minor": 2
}
